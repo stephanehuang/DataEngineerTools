{
 "cells": [
  {
   "cell_type": "markdown",
   "metadata": {},
   "source": [
    "#  Consignes\n",
    "\n",
    "## Description\n",
    "\n",
    "Ouvrir le fichier ks-projects-201801.csv, il recense environ 100 000 projets KickStarter. Intégrer les données directement avec L'API Python dans une base de données Mongo. \n",
    "\n",
    "Il conviendra de bien spécifier manuellement l'ID du document. Pensez aussi à bien formatter le type des données pour profiter des méthodes implémentées par Mongo. L'ensemble de données n'est pas forcément nécessaire, c'est à vous de créer votre modèle de données.\n",
    "\n",
    "## Questions\n",
    "\n",
    "- 1) Récupérer les 5 projets ayant reçu le plus de promesse de dons.\n",
    "- 2) Compter le nombre de projets ayant atteint leur but.\n",
    "- 3) Compter le nombre de projets pour chaque catégorie.\n",
    "- 4) Compter le nombre de projets français ayant été instanciés avant 2016.\n",
    "- 5) Récupérer les projets américains ayant demandé plus de 200 000 dollars.\n",
    "- 6) Compter le nombre de projet ayant \"Sport\" dans leur nom"
   ]
  },
  {
   "cell_type": "code",
   "execution_count": 6,
   "metadata": {},
   "outputs": [],
   "source": [
    "import pandas as pd\n",
    "import pymongo"
   ]
  },
  {
   "cell_type": "code",
   "execution_count": 7,
   "metadata": {},
   "outputs": [],
   "source": [
    "client = pymongo.MongoClient()\n",
    "database = client['exercices']\n",
    "collection = database['kickstarter']"
   ]
  },
  {
   "cell_type": "code",
   "execution_count": 8,
   "metadata": {},
   "outputs": [
    {
     "name": "stderr",
     "output_type": "stream",
     "text": [
      "D:\\king9\\anaconda3\\envs\\pythonProject\\lib\\site-packages\\IPython\\core\\interactiveshell.py:3155: DtypeWarning: Columns (6,8,10,12) have mixed types.Specify dtype option on import or set low_memory=False.\n",
      "  has_raised = await self.run_ast_nodes(code_ast.body, cell_name,\n"
     ]
    },
    {
     "data": {
      "text/html": [
       "<div>\n",
       "<style scoped>\n",
       "    .dataframe tbody tr th:only-of-type {\n",
       "        vertical-align: middle;\n",
       "    }\n",
       "\n",
       "    .dataframe tbody tr th {\n",
       "        vertical-align: top;\n",
       "    }\n",
       "\n",
       "    .dataframe thead th {\n",
       "        text-align: right;\n",
       "    }\n",
       "</style>\n",
       "<table border=\"1\" class=\"dataframe\">\n",
       "  <thead>\n",
       "    <tr style=\"text-align: right;\">\n",
       "      <th></th>\n",
       "      <th>ID</th>\n",
       "      <th>name</th>\n",
       "      <th>category</th>\n",
       "      <th>main_category</th>\n",
       "      <th>currency</th>\n",
       "      <th>deadline</th>\n",
       "      <th>goal</th>\n",
       "      <th>launched</th>\n",
       "      <th>pledged</th>\n",
       "      <th>state</th>\n",
       "      <th>backers</th>\n",
       "      <th>country</th>\n",
       "      <th>usd pledged</th>\n",
       "      <th>usd_pledged_real</th>\n",
       "    </tr>\n",
       "  </thead>\n",
       "  <tbody>\n",
       "    <tr>\n",
       "      <th>0</th>\n",
       "      <td>872782264</td>\n",
       "      <td>Scott Cooper's Solo CD \"A Leg Trick\" (Canceled)</td>\n",
       "      <td>Rock</td>\n",
       "      <td>Music</td>\n",
       "      <td>USD</td>\n",
       "      <td>2011-09-16</td>\n",
       "      <td>2000.0</td>\n",
       "      <td>2011-08-17 06:31:31</td>\n",
       "      <td>1145.0</td>\n",
       "      <td>canceled</td>\n",
       "      <td>24</td>\n",
       "      <td>US</td>\n",
       "      <td>1145.0</td>\n",
       "      <td>1145.000000</td>\n",
       "    </tr>\n",
       "    <tr>\n",
       "      <th>1</th>\n",
       "      <td>1326492673</td>\n",
       "      <td>Ohceola jewelry</td>\n",
       "      <td>Fashion</td>\n",
       "      <td>Fashion</td>\n",
       "      <td>USD</td>\n",
       "      <td>2012-08-22</td>\n",
       "      <td>18000.0</td>\n",
       "      <td>2012-07-23 20:46:48</td>\n",
       "      <td>1851.0</td>\n",
       "      <td>failed</td>\n",
       "      <td>28</td>\n",
       "      <td>US</td>\n",
       "      <td>1851.0</td>\n",
       "      <td>1851.000000</td>\n",
       "    </tr>\n",
       "    <tr>\n",
       "      <th>2</th>\n",
       "      <td>1688410639</td>\n",
       "      <td>Sluff Off &amp; Harald: Two latest EGGs are Classi...</td>\n",
       "      <td>Tabletop Games</td>\n",
       "      <td>Games</td>\n",
       "      <td>USD</td>\n",
       "      <td>2016-07-19</td>\n",
       "      <td>2000.0</td>\n",
       "      <td>2016-07-01 21:55:54</td>\n",
       "      <td>7534.0</td>\n",
       "      <td>successful</td>\n",
       "      <td>254</td>\n",
       "      <td>US</td>\n",
       "      <td>3796.0</td>\n",
       "      <td>7534.000000</td>\n",
       "    </tr>\n",
       "    <tr>\n",
       "      <th>3</th>\n",
       "      <td>156812982</td>\n",
       "      <td>SketchPlanner: Create and Plan- all in one bea...</td>\n",
       "      <td>Art Books</td>\n",
       "      <td>Publishing</td>\n",
       "      <td>USD</td>\n",
       "      <td>2017-09-27</td>\n",
       "      <td>13000.0</td>\n",
       "      <td>2017-08-28 15:47:02</td>\n",
       "      <td>16298.0</td>\n",
       "      <td>successful</td>\n",
       "      <td>367</td>\n",
       "      <td>US</td>\n",
       "      <td>2670.0</td>\n",
       "      <td>16298.000000</td>\n",
       "    </tr>\n",
       "    <tr>\n",
       "      <th>4</th>\n",
       "      <td>1835968190</td>\n",
       "      <td>Proven sales with custom motorcycle accessories</td>\n",
       "      <td>Sculpture</td>\n",
       "      <td>Art</td>\n",
       "      <td>CAD</td>\n",
       "      <td>2016-02-24</td>\n",
       "      <td>5000.0</td>\n",
       "      <td>2016-01-25 17:37:10</td>\n",
       "      <td>1.0</td>\n",
       "      <td>failed</td>\n",
       "      <td>1</td>\n",
       "      <td>CA</td>\n",
       "      <td>0.708148</td>\n",
       "      <td>0.738225</td>\n",
       "    </tr>\n",
       "  </tbody>\n",
       "</table>\n",
       "</div>"
      ],
      "text/plain": [
       "           ID                                               name  \\\n",
       "0   872782264    Scott Cooper's Solo CD \"A Leg Trick\" (Canceled)   \n",
       "1  1326492673                                    Ohceola jewelry   \n",
       "2  1688410639  Sluff Off & Harald: Two latest EGGs are Classi...   \n",
       "3   156812982  SketchPlanner: Create and Plan- all in one bea...   \n",
       "4  1835968190    Proven sales with custom motorcycle accessories   \n",
       "\n",
       "         category main_category currency    deadline     goal  \\\n",
       "0            Rock         Music      USD  2011-09-16   2000.0   \n",
       "1         Fashion       Fashion      USD  2012-08-22  18000.0   \n",
       "2  Tabletop Games         Games      USD  2016-07-19   2000.0   \n",
       "3       Art Books    Publishing      USD  2017-09-27  13000.0   \n",
       "4       Sculpture           Art      CAD  2016-02-24   5000.0   \n",
       "\n",
       "              launched  pledged       state backers country usd pledged  \\\n",
       "0  2011-08-17 06:31:31   1145.0    canceled      24      US      1145.0   \n",
       "1  2012-07-23 20:46:48   1851.0      failed      28      US      1851.0   \n",
       "2  2016-07-01 21:55:54   7534.0  successful     254      US      3796.0   \n",
       "3  2017-08-28 15:47:02  16298.0  successful     367      US      2670.0   \n",
       "4  2016-01-25 17:37:10      1.0      failed       1      CA    0.708148   \n",
       "\n",
       "   usd_pledged_real  \n",
       "0       1145.000000  \n",
       "1       1851.000000  \n",
       "2       7534.000000  \n",
       "3      16298.000000  \n",
       "4          0.738225  "
      ]
     },
     "execution_count": 8,
     "metadata": {},
     "output_type": "execute_result"
    }
   ],
   "source": [
    "df_ks = pd.read_csv(\"./data/ks-projects-201801-sample.csv\")\n",
    "df_ks.head()"
   ]
  },
  {
   "cell_type": "markdown",
   "metadata": {},
   "source": [
    "Ce warning intervient lorsque pandas n'arrive pas à inférer le type de données. Il est sympa il précise les colones 6,8,10,12. "
   ]
  },
  {
   "cell_type": "code",
   "execution_count": 9,
   "metadata": {},
   "outputs": [
    {
     "data": {
      "text/plain": [
       "Index(['goal', 'pledged', 'backers', 'usd pledged'], dtype='object')"
      ]
     },
     "execution_count": 9,
     "metadata": {},
     "output_type": "execute_result"
    }
   ],
   "source": [
    "df_ks.columns[[6,8,10,12]]"
   ]
  },
  {
   "cell_type": "markdown",
   "metadata": {},
   "source": [
    "## Question 0"
   ]
  },
  {
   "cell_type": "markdown",
   "metadata": {},
   "source": [
    "### Netoyer les données"
   ]
  },
  {
   "cell_type": "code",
   "execution_count": 10,
   "metadata": {},
   "outputs": [],
   "source": [
    "df2 = df_ks.dropna()"
   ]
  },
  {
   "cell_type": "markdown",
   "metadata": {
    "slideshow": {
     "slide_type": "slide"
    }
   },
   "source": [
    "### Importer les données"
   ]
  },
  {
   "cell_type": "code",
   "execution_count": 11,
   "metadata": {},
   "outputs": [],
   "source": [
    "df3 = df2.to_dict(orient='records')"
   ]
  },
  {
   "cell_type": "code",
   "execution_count": 12,
   "metadata": {},
   "outputs": [
    {
     "data": {
      "text/plain": [
       "<pymongo.results.InsertManyResult at 0x1c2f35dc4c0>"
      ]
     },
     "execution_count": 12,
     "metadata": {},
     "output_type": "execute_result"
    }
   ],
   "source": [
    "collection.insert_many(df3)"
   ]
  },
  {
   "cell_type": "markdown",
   "metadata": {},
   "source": [
    "## Question 1  "
   ]
  },
  {
   "cell_type": "code",
   "execution_count": 13,
   "metadata": {},
   "outputs": [
    {
     "data": {
      "text/plain": [
       "[{'_id': ObjectId('6021db76af3ceee6f7371305'),\n",
       "  'ID': 342886736,\n",
       "  'name': \"COOLEST COOLER: 21st Century Cooler that's Actually Cooler\",\n",
       "  'category': 'Product Design',\n",
       "  'main_category': 'Design',\n",
       "  'currency': 'USD',\n",
       "  'deadline': '2014-08-30',\n",
       "  'goal': '50000.0',\n",
       "  'launched': '2014-07-08 10:14:37',\n",
       "  'pledged': '13285226.36',\n",
       "  'state': 'successful',\n",
       "  'backers': '62642',\n",
       "  'country': 'US',\n",
       "  'usd pledged': '13285226.36',\n",
       "  'usd_pledged_real': 13285226.36},\n",
       " {'_id': ObjectId('6021db76af3ceee6f7376d2f'),\n",
       "  'ID': 2103598555,\n",
       "  'name': 'Pebble 2, Time 2 + All-New Pebble Core',\n",
       "  'category': 'Product Design',\n",
       "  'main_category': 'Design',\n",
       "  'currency': 'USD',\n",
       "  'deadline': '2016-06-30',\n",
       "  'goal': '1000000.0',\n",
       "  'launched': '2016-05-24 15:49:52',\n",
       "  'pledged': '12779843.49',\n",
       "  'state': 'successful',\n",
       "  'backers': '66673',\n",
       "  'country': 'US',\n",
       "  'usd pledged': '12779843.49',\n",
       "  'usd_pledged_real': 12779843.49},\n",
       " {'_id': ObjectId('6021db77af3ceee6f737a1c6'),\n",
       "  'ID': 1033978702,\n",
       "  'name': 'OUYA: A New Kind of Video Game Console',\n",
       "  'category': 'Gaming Hardware',\n",
       "  'main_category': 'Games',\n",
       "  'currency': 'USD',\n",
       "  'deadline': '2012-08-09',\n",
       "  'goal': '950000.0',\n",
       "  'launched': '2012-07-10 14:44:41',\n",
       "  'pledged': '8596474.58',\n",
       "  'state': 'successful',\n",
       "  'backers': '63416',\n",
       "  'country': 'US',\n",
       "  'usd pledged': '8596474.58',\n",
       "  'usd_pledged_real': 8596474.58},\n",
       " {'_id': ObjectId('6021db77af3ceee6f7381848'),\n",
       "  'ID': 450099426,\n",
       "  'name': 'The Everyday Backpack, Tote, and Sling',\n",
       "  'category': 'Product Design',\n",
       "  'main_category': 'Design',\n",
       "  'currency': 'USD',\n",
       "  'deadline': '2016-09-10',\n",
       "  'goal': 500000.0,\n",
       "  'launched': '2016-07-13 00:47:35',\n",
       "  'pledged': 6565782.5,\n",
       "  'state': 'successful',\n",
       "  'backers': 26359,\n",
       "  'country': 'US',\n",
       "  'usd pledged': 1462611.0,\n",
       "  'usd_pledged_real': 6565782.5},\n",
       " {'_id': ObjectId('6021db77af3ceee6f737a0fb'),\n",
       "  'ID': 1386523707,\n",
       "  'name': 'Fidget Cube: A Vinyl Desk Toy',\n",
       "  'category': 'Product Design',\n",
       "  'main_category': 'Design',\n",
       "  'currency': 'USD',\n",
       "  'deadline': '2016-10-20',\n",
       "  'goal': '15000.0',\n",
       "  'launched': '2016-08-30 22:02:09',\n",
       "  'pledged': '6465690.3',\n",
       "  'state': 'successful',\n",
       "  'backers': '154926',\n",
       "  'country': 'US',\n",
       "  'usd pledged': '13770.0',\n",
       "  'usd_pledged_real': 6465690.3}]"
      ]
     },
     "execution_count": 13,
     "metadata": {},
     "output_type": "execute_result"
    }
   ],
   "source": [
    "curse = collection.find().sort([(\"usd_pledged_real\", -1)]).limit(5)\n",
    "list(curse)"
   ]
  },
  {
   "cell_type": "markdown",
   "metadata": {},
   "source": [
    "## Question 2"
   ]
  },
  {
   "cell_type": "code",
   "execution_count": 14,
   "metadata": {},
   "outputs": [
    {
     "data": {
      "text/plain": [
       "52998"
      ]
     },
     "execution_count": 14,
     "metadata": {},
     "output_type": "execute_result"
    }
   ],
   "source": [
    "curse = collection.find({\"state\":\"successful\"})\n",
    "len(list(curse))"
   ]
  },
  {
   "cell_type": "markdown",
   "metadata": {},
   "source": [
    "## Question 3"
   ]
  },
  {
   "cell_type": "code",
   "execution_count": 15,
   "metadata": {},
   "outputs": [
    {
     "data": {
      "text/plain": [
       "[{'_id': 'Film & Video', 'sum': 24982},\n",
       " {'_id': 'Food', 'sum': 9805},\n",
       " {'_id': 'Dance', 'sum': 1488},\n",
       " {'_id': 'Fashion', 'sum': 8943},\n",
       " {'_id': 'Art', 'sum': 11260},\n",
       " {'_id': 'Crafts', 'sum': 3463},\n",
       " {'_id': 'Music', 'sum': 19657},\n",
       " {'_id': 'Indie Rock', 'sum': 1},\n",
       " {'_id': 'Publishing', 'sum': 15721},\n",
       " {'_id': 'Games', 'sum': 13987},\n",
       " {'_id': 'Comics', 'sum': 4139},\n",
       " {'_id': 'Theater', 'sum': 4305},\n",
       " {'_id': 'Journalism', 'sum': 1807},\n",
       " {'_id': 'Technology', 'sum': 12871},\n",
       " {'_id': 'Photography', 'sum': 4176},\n",
       " {'_id': 'Design', 'sum': 11911}]"
      ]
     },
     "execution_count": 15,
     "metadata": {},
     "output_type": "execute_result"
    }
   ],
   "source": [
    "curse = collection.aggregate([{\"$group\" : {\"_id\" : \"$main_category\", \"sum\" : {\"$sum\" : 1}}}])\n",
    "list(curse)"
   ]
  },
  {
   "cell_type": "markdown",
   "metadata": {},
   "source": [
    "## Question 4"
   ]
  },
  {
   "cell_type": "code",
   "execution_count": 16,
   "metadata": {},
   "outputs": [
    {
     "data": {
      "text/plain": [
       "330"
      ]
     },
     "execution_count": 16,
     "metadata": {},
     "output_type": "execute_result"
    }
   ],
   "source": [
    "curse = collection.find( { \"$and\":[{\"country\": \"FR\"}, {\"launched\": {\"$lte\" : \"2016-01-01\"}}] } )\n",
    "len(list(curse))"
   ]
  },
  {
   "cell_type": "markdown",
   "metadata": {},
   "source": [
    "## Question 5"
   ]
  },
  {
   "cell_type": "code",
   "execution_count": 17,
   "metadata": {},
   "outputs": [
    {
     "data": {
      "text/plain": [
       "1026"
      ]
     },
     "execution_count": 17,
     "metadata": {},
     "output_type": "execute_result"
    }
   ],
   "source": [
    "curse = collection.find( { \"$and\":[{\"country\": \"US\"}, {\"goal\": {\"$gt\" : 200000}}] } )\n",
    "len(list(curse))"
   ]
  },
  {
   "cell_type": "markdown",
   "metadata": {},
   "source": [
    "## Question 6 "
   ]
  },
  {
   "cell_type": "code",
   "execution_count": 18,
   "metadata": {},
   "outputs": [
    {
     "data": {
      "text/plain": [
       "316"
      ]
     },
     "execution_count": 18,
     "metadata": {},
     "output_type": "execute_result"
    }
   ],
   "source": [
    "collection.create_index([(\"name\",  \"text\")])\n",
    "curse = collection.find( { \"$text\": { \"$search\": \"Sport\" } } )\n",
    "len(list(curse))"
   ]
  },
  {
   "cell_type": "code",
   "execution_count": null,
   "metadata": {},
   "outputs": [],
   "source": []
  }
 ],
 "metadata": {
  "kernelspec": {
   "display_name": "Python 3",
   "language": "python",
   "name": "python3"
  },
  "language_info": {
   "codemirror_mode": {
    "name": "ipython",
    "version": 3
   },
   "file_extension": ".py",
   "mimetype": "text/x-python",
   "name": "python",
   "nbconvert_exporter": "python",
   "pygments_lexer": "ipython3",
   "version": "3.8.5"
  }
 },
 "nbformat": 4,
 "nbformat_minor": 2
}