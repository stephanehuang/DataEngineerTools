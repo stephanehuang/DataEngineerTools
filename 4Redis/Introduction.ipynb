{
 "cells": [
  {
   "cell_type": "markdown",
   "metadata": {},
   "source": [
    "# Introduction"
   ]
  },
  {
   "cell_type": "markdown",
   "metadata": {},
   "source": [
    "## Présentation"
   ]
  },
  {
   "cell_type": "markdown",
   "metadata": {},
   "source": [
    "Redis est une base de données NoSQL qui se classe dans la catégorie \"data structure server\". C'est  un système permettant de traiter, de manière très performante, des données sous la forme clés/valeurs. Cette performance est obtenue car les données sont stockées directement sur la mémoire RAM. Cela permet d'accéder très facilement aux données \n",
    "\n",
    "La clé permet de récupérer et d'identifier de manière unique la donnée. Redis ne permet pas de stocker des modèles de données très complexes il faut donc ruser pour créer une structure de données complète et complexe."
   ]
  },
  {
   "cell_type": "markdown",
   "metadata": {},
   "source": [
    "## Les données "
   ]
  },
  {
   "cell_type": "markdown",
   "metadata": {},
   "source": [
    "\n",
    "\n",
    "Les valeurs peuvent appartenir aux types suivants:\n",
    "\n",
    "- chaînes de caractères\n",
    "- compteurs numériques (les données numériques seront stockées dans la base sous la forme de chaîne de caractères)\n",
    "- listes \n",
    "- sets ou sets ordonnées\n",
    "- dictionnaires"
   ]
  },
  {
   "cell_type": "markdown",
   "metadata": {},
   "source": [
    "## Installation"
   ]
  },
  {
   "cell_type": "markdown",
   "metadata": {},
   "source": [
    "Pour installer la librairie de Python permettant d'intéragir avec Redis\n",
    "\n",
    "`pip install redis`\n",
    "\n",
    "ou si on utilise pipenv comme dans notre cas \n",
    "\n",
    "`pipenv install redis`"
   ]
  },
  {
   "cell_type": "markdown",
   "metadata": {},
   "source": [
    "# Let's play"
   ]
  },
  {
   "cell_type": "code",
   "execution_count": 2,
   "metadata": {
    "ExecuteTime": {
     "end_time": "2018-12-04T08:25:39.071270Z",
     "start_time": "2018-12-04T08:25:39.068233Z"
    }
   },
   "outputs": [
    {
     "ename": "ModuleNotFoundError",
     "evalue": "No module named 'redis'",
     "output_type": "error",
     "traceback": [
      "\u001B[1;31m---------------------------------------------------------------------------\u001B[0m",
      "\u001B[1;31mModuleNotFoundError\u001B[0m                       Traceback (most recent call last)",
      "\u001B[1;32m<ipython-input-2-1df469b87f5d>\u001B[0m in \u001B[0;36m<module>\u001B[1;34m\u001B[0m\n\u001B[1;32m----> 1\u001B[1;33m \u001B[1;32mimport\u001B[0m \u001B[0mredis\u001B[0m\u001B[1;33m\u001B[0m\u001B[1;33m\u001B[0m\u001B[0m\n\u001B[0m\u001B[0;32m      2\u001B[0m \u001B[1;33m\u001B[0m\u001B[0m\n\u001B[0;32m      3\u001B[0m \u001B[0mLOCAL\u001B[0m \u001B[1;33m=\u001B[0m \u001B[1;32mFalse\u001B[0m\u001B[1;33m\u001B[0m\u001B[1;33m\u001B[0m\u001B[0m\n\u001B[0;32m      4\u001B[0m \u001B[1;33m\u001B[0m\u001B[0m\n",
      "\u001B[1;31mModuleNotFoundError\u001B[0m: No module named 'redis'"
     ]
    }
   ],
   "source": [
    "import redis\n",
    "\n",
    "LOCAL = False"
   ]
  },
  {
   "cell_type": "code",
   "execution_count": null,
   "metadata": {
    "ExecuteTime": {
     "end_time": "2018-12-04T08:25:39.317259Z",
     "start_time": "2018-12-04T08:25:39.312951Z"
    }
   },
   "outputs": [],
   "source": [
    "redis_client = redis.StrictRedis(host='localhost' if LOCAL else 'redis')"
   ]
  },
  {
   "cell_type": "markdown",
   "metadata": {},
   "source": [
    "Pour tester la connexion on peut pinguer la base de données :"
   ]
  },
  {
   "cell_type": "code",
   "execution_count": null,
   "metadata": {
    "ExecuteTime": {
     "end_time": "2018-12-04T08:25:40.167383Z",
     "start_time": "2018-12-04T08:25:40.159274Z"
    }
   },
   "outputs": [],
   "source": [
    "redis_client.ping()"
   ]
  },
  {
   "cell_type": "markdown",
   "metadata": {},
   "source": [
    "Vous pouvez regarder toutes les configurations utilisé par Redis, beaucoup ne sont pas utiles à notre niveau mais vous pouvez voir par exemple, `database`, `maxclients`, `port` , `timeout` qui peuvent être utile de modifier pour différentes applications"
   ]
  },
  {
   "cell_type": "code",
   "execution_count": null,
   "metadata": {
    "ExecuteTime": {
     "end_time": "2018-12-04T08:25:40.857904Z",
     "start_time": "2018-12-04T08:25:40.847839Z"
    }
   },
   "outputs": [],
   "source": [
    "redis_client.config_get()"
   ]
  },
  {
   "cell_type": "markdown",
   "metadata": {},
   "source": [
    "## Stockage clé valeurs"
   ]
  },
  {
   "cell_type": "markdown",
   "metadata": {},
   "source": [
    "Pour stocker une valeur correspondant à une clé "
   ]
  },
  {
   "cell_type": "code",
   "execution_count": null,
   "metadata": {
    "ExecuteTime": {
     "end_time": "2018-12-04T08:25:41.694243Z",
     "start_time": "2018-12-04T08:25:41.688105Z"
    }
   },
   "outputs": [],
   "source": [
    "KEY = \"name\"\n",
    "VALUE = \"yourname\"\n",
    "redis_client.set(KEY, VALUE)"
   ]
  },
  {
   "cell_type": "markdown",
   "metadata": {},
   "source": [
    "True montre que le stockage s'est bien déroulé. "
   ]
  },
  {
   "cell_type": "markdown",
   "metadata": {},
   "source": [
    "Pour récupérer la valeur stocké il suffit d'appeler la méthode `GET` sur cette clé"
   ]
  },
  {
   "cell_type": "code",
   "execution_count": null,
   "metadata": {
    "ExecuteTime": {
     "end_time": "2018-12-04T08:25:42.688807Z",
     "start_time": "2018-12-04T08:25:42.682023Z"
    }
   },
   "outputs": [],
   "source": [
    "redis_client.get(KEY)"
   ]
  },
  {
   "cell_type": "markdown",
   "metadata": {},
   "source": [
    "Vous pouvez voir que à l'aide du `b` que la réponse n'est pas exactement ce que l'on a stocké mais une représentation en bytes de notre chaine de charactères. "
   ]
  },
  {
   "cell_type": "code",
   "execution_count": null,
   "metadata": {
    "ExecuteTime": {
     "end_time": "2018-12-04T08:25:43.214343Z",
     "start_time": "2018-12-04T08:25:43.204141Z"
    }
   },
   "outputs": [],
   "source": [
    "assert redis_client.get(KEY) == VALUE, \"Les valeurs ne correspondent pas\""
   ]
  },
  {
   "cell_type": "markdown",
   "metadata": {},
   "source": [
    "Pour cela, en python, il faut appeler la méthode `decode()` pour transformer des bytes en string "
   ]
  },
  {
   "cell_type": "code",
   "execution_count": null,
   "metadata": {
    "ExecuteTime": {
     "end_time": "2018-12-04T08:25:44.385530Z",
     "start_time": "2018-12-04T08:25:44.381006Z"
    }
   },
   "outputs": [],
   "source": [
    "assert redis_client.get(KEY).decode() == VALUE, \"les valeurs ne correspondent pas\""
   ]
  },
  {
   "cell_type": "markdown",
   "metadata": {},
   "source": [
    "On peut préciser au client de décoder les réponses et de les transformer directement en strings"
   ]
  },
  {
   "cell_type": "code",
   "execution_count": null,
   "metadata": {
    "ExecuteTime": {
     "end_time": "2018-12-04T08:26:03.568675Z",
     "start_time": "2018-12-04T08:26:03.563799Z"
    }
   },
   "outputs": [],
   "source": [
    "redis_client = redis.StrictRedis(host='localhost' if LOCAL else 'redis', port=6379, charset='utf-8', decode_responses=True)"
   ]
  },
  {
   "cell_type": "code",
   "execution_count": null,
   "metadata": {
    "ExecuteTime": {
     "end_time": "2018-12-04T08:26:04.033465Z",
     "start_time": "2018-12-04T08:26:04.023275Z"
    }
   },
   "outputs": [],
   "source": [
    "assert redis_client.get(KEY) == VALUE"
   ]
  },
  {
   "cell_type": "markdown",
   "metadata": {},
   "source": [
    "Les valeurs peuvent aussi être des entiers"
   ]
  },
  {
   "cell_type": "code",
   "execution_count": null,
   "metadata": {
    "ExecuteTime": {
     "end_time": "2018-12-04T08:26:06.379973Z",
     "start_time": "2018-12-04T08:26:06.373205Z"
    }
   },
   "outputs": [],
   "source": [
    "KEY = \"age\"\n",
    "VALUE = 20\n",
    "\n",
    "redis_client.set(KEY, VALUE)"
   ]
  },
  {
   "cell_type": "code",
   "execution_count": null,
   "metadata": {
    "ExecuteTime": {
     "end_time": "2018-12-04T08:26:07.073320Z",
     "start_time": "2018-12-04T08:26:07.066581Z"
    }
   },
   "outputs": [],
   "source": [
    "redis_client.get(KEY)"
   ]
  },
  {
   "cell_type": "markdown",
   "metadata": {},
   "source": [
    "Vous pouvez alors utiliser la méthode `incr` pour incrémenter cet entier. Il faut faire attention puisque redis renvoie toujours les entiers comme des chaines de charactères."
   ]
  },
  {
   "cell_type": "code",
   "execution_count": null,
   "metadata": {
    "ExecuteTime": {
     "end_time": "2018-12-04T08:26:07.706424Z",
     "start_time": "2018-12-04T08:26:07.699705Z"
    }
   },
   "outputs": [],
   "source": [
    "redis_client.incr(KEY)"
   ]
  },
  {
   "cell_type": "markdown",
   "metadata": {},
   "source": [
    "## Exemple "
   ]
  },
  {
   "cell_type": "code",
   "execution_count": null,
   "metadata": {
    "ExecuteTime": {
     "end_time": "2018-12-04T08:26:08.699775Z",
     "start_time": "2018-12-04T08:26:08.696428Z"
    }
   },
   "outputs": [],
   "source": [
    "from ipywidgets import widgets, interact\n",
    "from IPython.display import display"
   ]
  },
  {
   "cell_type": "code",
   "execution_count": null,
   "metadata": {
    "ExecuteTime": {
     "end_time": "2018-12-04T08:26:09.194404Z",
     "start_time": "2018-12-04T08:26:09.176035Z"
    }
   },
   "outputs": [],
   "source": [
    "KEY = \"click_number\"\n",
    "DEFAULT_VALUE = 0\n",
    "\n",
    "redis_client.set(KEY, DEFAULT_VALUE)\n",
    "\n",
    "button = widgets.Button(description=\"Click me!\")\n",
    "def on_button_clicked(button):\n",
    "    redis_client.incr(KEY)\n",
    "    print(f\"Le bouton à été cliqué {redis_client.get(KEY)} fois\")\n",
    "    button.description = \"Click me more !\"\n",
    "    \n",
    "button.on_click(on_button_clicked)\n",
    "display(button)"
   ]
  },
  {
   "cell_type": "markdown",
   "metadata": {},
   "source": [
    "## Les Listes"
   ]
  },
  {
   "cell_type": "markdown",
   "metadata": {},
   "source": [
    "Redis permet aussi de stocker des valeurs de type `list`, pour cela nous avons à notre disposition un ensemble de méthodes :  \n",
    "\n",
    "- La méthode `LPUSH`  permet d'ajouter un élément en tête de list la complexité est de O(1).  \n",
    "- La méthode `RPUSH` permet d'ajouter un élément en queue de list la complexité est de O(1).  \n",
    "- La méthode `LINSERT` permet d'ajouter un élément avant ou après la première occurence d'une certaine valeur, la complexité est de O(N) à part pour le premier et le dernier élèment.\n",
    "- La méthode `LSET` permet de modifier la valeur correspondant à l'index spécifié, la complexité est de O(N) à part pour le premier et le dernier élèment.\n",
    "- La méthode `RPOP` permet de supprimer un élément en queue de list la complexité est de O(1).\n",
    "- La méthode `LPOP` permet de supprimer un élément en tête de list la complexité est de O(1).\n",
    "- La méthode `LINDEX` permet d'afficher un élément en fonction de son index.\n",
    "- La méthode `LREM` permet de supprimer un élément en fonction de son index.\n",
    "- La méthode `LLEN` permet de récupérer la taille d'une liste.\n",
    "\n",
    "Nous allons toutes les tester."
   ]
  },
  {
   "cell_type": "code",
   "execution_count": null,
   "metadata": {
    "ExecuteTime": {
     "end_time": "2018-12-04T08:26:24.680746Z",
     "start_time": "2018-12-04T08:26:24.673481Z"
    }
   },
   "outputs": [],
   "source": [
    "redis_client.lpush('language_list', \"kotlin\")\n",
    "redis_client.lpush('language_list', \"python\")"
   ]
  },
  {
   "cell_type": "markdown",
   "metadata": {},
   "source": [
    "On peut aussi ajouter plusieurs élément en même temps dans une liste"
   ]
  },
  {
   "cell_type": "code",
   "execution_count": null,
   "metadata": {
    "ExecuteTime": {
     "end_time": "2018-12-04T08:26:27.016079Z",
     "start_time": "2018-12-04T08:26:27.009199Z"
    }
   },
   "outputs": [],
   "source": [
    "redis_client.lpush('language_list', \"java\", \"c++\")"
   ]
  },
  {
   "cell_type": "code",
   "execution_count": null,
   "metadata": {
    "ExecuteTime": {
     "end_time": "2018-12-04T08:26:30.245500Z",
     "start_time": "2018-12-04T08:26:30.238681Z"
    }
   },
   "outputs": [],
   "source": [
    "f\"La taille de la liste est {redis_client.llen('language_list')}\""
   ]
  },
  {
   "cell_type": "code",
   "execution_count": null,
   "metadata": {
    "ExecuteTime": {
     "end_time": "2018-12-04T08:26:30.939658Z",
     "start_time": "2018-12-04T08:26:30.931391Z"
    }
   },
   "outputs": [],
   "source": [
    "INDEX = 2\n",
    "f\"L'élément à l'index {INDEX} taille de la liste est '{redis_client.lindex('language_list', INDEX)}'\""
   ]
  },
  {
   "cell_type": "markdown",
   "metadata": {},
   "source": [
    "Le client renvoie la taille de la liste venant d'être mise à jour. On peut afficher tous les éléments de la liste en les retirant un par un."
   ]
  },
  {
   "cell_type": "code",
   "execution_count": null,
   "metadata": {
    "ExecuteTime": {
     "end_time": "2018-12-04T08:26:32.044205Z",
     "start_time": "2018-12-04T08:26:32.034495Z"
    },
    "scrolled": true
   },
   "outputs": [],
   "source": [
    "while(redis_client.llen('language_list')!=0):\n",
    "\n",
    "    print(redis_client.lpop('language_list'))"
   ]
  },
  {
   "cell_type": "markdown",
   "metadata": {},
   "source": [
    "## Les dictionnaires "
   ]
  },
  {
   "cell_type": "markdown",
   "metadata": {},
   "source": [
    "Redis permet de stocker assez facilement des dictionnaires, on peut comme cela stocker des structures de données plus complexes. Pour cela nous avons plusieurs méthodes : \n",
    "\n",
    "- La méthode `HMSET` permet d'ajouter un dictionnaire à une clé\n",
    "- La méthode `HSET` permet d'ajouter ou de modifier la valeur d'une clé d'un dictionnaire\n",
    "- La méthode `HGET` permet d'ajouter ou de modifier la valeur d'une clé d'un dictionnaire\n",
    "- La méthode `HGETALL` permet de récupérer toutes les clés valeurs d'un dictionnaire.\n",
    "- La méthode `HKEYS` permet de récupérer toutes les clés d'un dictionnaire\n",
    "- La méthode `HVALS` permet de récupérer toutes les valeurs d'un dictionnaire"
   ]
  },
  {
   "cell_type": "code",
   "execution_count": null,
   "metadata": {
    "ExecuteTime": {
     "end_time": "2018-12-04T08:26:33.442083Z",
     "start_time": "2018-12-04T08:26:33.438667Z"
    }
   },
   "outputs": [],
   "source": [
    "doc = {\n",
    "    \"name\":\"yourname\",\n",
    "    \"age\":20,\n",
    "    \"city\":\"paris\"\n",
    "}"
   ]
  },
  {
   "cell_type": "code",
   "execution_count": null,
   "metadata": {
    "ExecuteTime": {
     "end_time": "2018-12-04T08:26:33.878602Z",
     "start_time": "2018-12-04T08:26:33.870214Z"
    }
   },
   "outputs": [],
   "source": [
    "redis_client.hmset(\"user1\", doc)"
   ]
  },
  {
   "cell_type": "code",
   "execution_count": null,
   "metadata": {
    "ExecuteTime": {
     "end_time": "2018-12-04T08:26:34.248995Z",
     "start_time": "2018-12-04T08:26:34.243270Z"
    }
   },
   "outputs": [],
   "source": [
    "redis_client.hgetall(\"user1\")"
   ]
  },
  {
   "cell_type": "markdown",
   "metadata": {},
   "source": [
    "On peut modifier uniquement une clé du dictionnaire"
   ]
  },
  {
   "cell_type": "code",
   "execution_count": null,
   "metadata": {
    "ExecuteTime": {
     "end_time": "2018-12-04T08:26:35.008465Z",
     "start_time": "2018-12-04T08:26:34.999460Z"
    }
   },
   "outputs": [],
   "source": [
    "redis_client.hset(\"user1\", \"city\", \"lyon\")"
   ]
  },
  {
   "cell_type": "code",
   "execution_count": null,
   "metadata": {
    "ExecuteTime": {
     "end_time": "2018-12-04T08:26:35.361923Z",
     "start_time": "2018-12-04T08:26:35.355242Z"
    }
   },
   "outputs": [],
   "source": [
    "redis_client.hgetall(\"user1\")"
   ]
  },
  {
   "cell_type": "markdown",
   "metadata": {},
   "source": [
    "## Les pipelines"
   ]
  },
  {
   "cell_type": "code",
   "execution_count": null,
   "metadata": {
    "ExecuteTime": {
     "end_time": "2018-12-04T08:26:36.136976Z",
     "start_time": "2018-12-04T08:26:36.133949Z"
    }
   },
   "outputs": [],
   "source": [
    "import timeit"
   ]
  },
  {
   "cell_type": "markdown",
   "metadata": {},
   "source": [
    "Lorsque l'on appelle une méthode depuis le client python, chaqu'une d'entres elles fait un appel à Redis, ce qui peut prendre du temps. Les pipelines permettent de réduire ce temps en stockant toutes les opérations et en les applicant une seul fois sur la base. Cela permet d'augmenter grandement les performances en réduisant les appels et le passage par le réseau. "
   ]
  },
  {
   "cell_type": "code",
   "execution_count": null,
   "metadata": {
    "ExecuteTime": {
     "end_time": "2018-12-04T08:26:36.921577Z",
     "start_time": "2018-12-04T08:26:36.918549Z"
    }
   },
   "outputs": [],
   "source": [
    "N = 10000"
   ]
  },
  {
   "cell_type": "code",
   "execution_count": null,
   "metadata": {
    "ExecuteTime": {
     "end_time": "2018-12-04T08:26:37.269282Z",
     "start_time": "2018-12-04T08:26:37.265317Z"
    }
   },
   "outputs": [],
   "source": [
    "def store_key_values(N):\n",
    "    for i in range(N):\n",
    "        redis_client.set(f\"key_{i}\", f\"value_{i}\")"
   ]
  },
  {
   "cell_type": "code",
   "execution_count": null,
   "metadata": {
    "ExecuteTime": {
     "end_time": "2018-12-04T08:27:03.663057Z",
     "start_time": "2018-12-04T08:26:37.607869Z"
    }
   },
   "outputs": [],
   "source": [
    "%%timeit\n",
    "store_key_values(N=N)"
   ]
  },
  {
   "cell_type": "code",
   "execution_count": null,
   "metadata": {
    "ExecuteTime": {
     "end_time": "2018-12-04T08:27:03.680221Z",
     "start_time": "2018-12-04T08:27:03.676471Z"
    }
   },
   "outputs": [],
   "source": [
    "def store_key_values_with_pipelines(N):\n",
    "    p = redis_client.pipeline()\n",
    "    for i in range(N):\n",
    "        p.set(f\"key_{i}\", f\"value_{i}\")"
   ]
  },
  {
   "cell_type": "code",
   "execution_count": null,
   "metadata": {
    "ExecuteTime": {
     "end_time": "2018-12-04T08:27:14.525408Z",
     "start_time": "2018-12-04T08:27:03.691655Z"
    }
   },
   "outputs": [],
   "source": [
    "%%timeit\n",
    "store_key_values_with_pipelines(N=N)"
   ]
  },
  {
   "cell_type": "code",
   "execution_count": null,
   "metadata": {},
   "outputs": [],
   "source": [
    "On voit alors que l'on peut diviser le temps par 100. Dans vos différents métiers les performances sont souvent très importan"
   ]
  },
  {
   "cell_type": "markdown",
   "metadata": {},
   "source": [
    "# Exercice"
   ]
  },
  {
   "cell_type": "markdown",
   "metadata": {},
   "source": [
    "Utiliser redis pour gérer les commandes d'un restaurant de burgers, pour simplifier les choses les clients pourront choisir leurs ingrédients dans 3 types de produits :\n",
    "\n",
    "- Pain: blanc, complet, aux céréales\n",
    "- Garniture : salade, tomates , oignons, concombres\n",
    "- Protéines : poulet, boeuf, agneau, tofu\n",
    "\n",
    "Chaque ingrédient équivaut à un prix et un poids, avec chaque commande vous devrez calculer le poids et le prix que les clients devront régler. \n",
    "\n",
    "1) Stocker les informations concernant les ingrédients dans redis   \n",
    "2) Créer la méthode permettant de créer aléatoirement un burger  \n",
    "3) Créer la méthode qui permet d'empiler dans redis les prochaines commandes (Réfléchir au type de données utilisé)  \n",
    "4) Créer la méthode permettant de calculer le poids et le prix du burger  \n",
    "5) Créer une boucle pour dépiler, réaliser et servir les burgers.  \n",
    "\n",
    "Pour vous aider voici quelques données "
   ]
  },
  {
   "cell_type": "code",
   "execution_count": null,
   "metadata": {
    "ExecuteTime": {
     "end_time": "2018-12-04T08:37:06.762862Z",
     "start_time": "2018-12-04T08:37:06.759434Z"
    }
   },
   "outputs": [],
   "source": [
    "pains = {\n",
    "    \"blanc\":{\n",
    "        \"poid\":100,\n",
    "        \"prix\": 2\n",
    "    },\n",
    "    \"complet\":{\n",
    "        \"poid\":90,\n",
    "        \"prix\": 3\n",
    "    },\n",
    "    \"cereales\":{\n",
    "        \"poid\":120,\n",
    "        \"prix\": 4\n",
    "    }\n",
    "}"
   ]
  },
  {
   "cell_type": "code",
   "execution_count": null,
   "metadata": {
    "ExecuteTime": {
     "end_time": "2018-12-04T08:37:07.247818Z",
     "start_time": "2018-12-04T08:37:07.244362Z"
    }
   },
   "outputs": [],
   "source": [
    "garniture = {\n",
    "    \"salade\":{\n",
    "        \"poid\":50,\n",
    "        \"prix\": 1\n",
    "    }, \"tomates\":{\n",
    "        \"poid\":60,\n",
    "        \"prix\": 2\n",
    "    } , \"oignons\":{\n",
    "        \"poid\":10,\n",
    "        \"prix\": 1.5\n",
    "    }, \"concombres\":{\n",
    "        \"poid\":30,\n",
    "        \"prix\": 3\n",
    "    }\n",
    "}"
   ]
  },
  {
   "cell_type": "code",
   "execution_count": null,
   "metadata": {
    "ExecuteTime": {
     "end_time": "2018-12-04T08:37:07.517097Z",
     "start_time": "2018-12-04T08:37:07.512411Z"
    }
   },
   "outputs": [],
   "source": [
    "proteine = {\n",
    "    \"poulet\":{\n",
    "        \"poid\":100,\n",
    "        \"prix\": 6\n",
    "    }, \"boeuf\":{\n",
    "        \"poid\":150,\n",
    "        \"prix\": 5\n",
    "    } , \"agneau\":{\n",
    "        \"poid\":120,\n",
    "        \"prix\": 7\n",
    "    }, \"tofu\":{\n",
    "        \"poid\":80,\n",
    "        \"prix\": 8\n",
    "    }\n",
    "}"
   ]
  },
  {
   "cell_type": "code",
   "execution_count": null,
   "metadata": {
    "ExecuteTime": {
     "end_time": "2018-12-04T08:39:08.617493Z",
     "start_time": "2018-12-04T08:39:08.609953Z"
    }
   },
   "outputs": [],
   "source": [
    "def make_burger():\n",
    "    pass\n",
    "\n",
    "def make_order():\n",
    "    pass\n",
    "\n",
    "def get_next_order():\n",
    "    pass\n",
    "\n",
    "def process_price_weight():\n",
    "    pass\n",
    "\n",
    "def process_burger():\n",
    "    return None, None, None"
   ]
  },
  {
   "cell_type": "code",
   "execution_count": null,
   "metadata": {
    "ExecuteTime": {
     "end_time": "2018-12-04T08:39:08.817270Z",
     "start_time": "2018-12-04T08:39:08.812786Z"
    }
   },
   "outputs": [],
   "source": [
    "while True:\n",
    "    burger, price, weight = process_burger()\n",
    "    print(f'Le burger {burger} de {weight} gr à été préparé et servi il faut régler {price}€')\n",
    "    break"
   ]
  },
  {
   "cell_type": "code",
   "execution_count": null,
   "metadata": {},
   "outputs": [],
   "source": []
  },
  {
   "cell_type": "code",
   "execution_count": null,
   "metadata": {},
   "outputs": [],
   "source": []
  }
 ],
 "metadata": {
  "kernelspec": {
   "name": "pycharm-139d99ec",
   "language": "python",
   "display_name": "PyCharm (intro)"
  },
  "language_info": {
   "codemirror_mode": {
    "name": "ipython",
    "version": 3
   },
   "file_extension": ".py",
   "mimetype": "text/x-python",
   "name": "python",
   "nbconvert_exporter": "python",
   "pygments_lexer": "ipython3",
   "version": "3.6.9"
  },
  "varInspector": {
   "cols": {
    "lenName": 16,
    "lenType": 16,
    "lenVar": 40
   },
   "kernels_config": {
    "python": {
     "delete_cmd_postfix": "",
     "delete_cmd_prefix": "del ",
     "library": "var_list.py",
     "varRefreshCmd": "print(var_dic_list())"
    },
    "r": {
     "delete_cmd_postfix": ") ",
     "delete_cmd_prefix": "rm(",
     "library": "var_list.r",
     "varRefreshCmd": "cat(var_dic_list()) "
    }
   },
   "types_to_exclude": [
    "module",
    "function",
    "builtin_function_or_method",
    "instance",
    "_Feature"
   ],
   "window_display": false
  }
 },
 "nbformat": 4,
 "nbformat_minor": 2
}